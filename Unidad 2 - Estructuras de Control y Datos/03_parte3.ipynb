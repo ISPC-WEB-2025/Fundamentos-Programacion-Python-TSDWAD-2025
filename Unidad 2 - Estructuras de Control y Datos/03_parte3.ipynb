{
 "cells": [
  {
   "cell_type": "markdown",
   "id": "a20e722d",
   "metadata": {},
   "source": [
    "---\n",
    "### 📚 Navegación\n",
    "\n",
    "[👈 Anterior]([LINK_ANTERIOR]) | [Volver al Índice General 🏠](https://colab.research.google.com/github/ISPC-WEB-2025/Fundamentos-Programacion-Python-TSDWAD-2025/blob/main/00_Indice_General_Guia_Python.ipynb) | [Siguiente 👉]([LINK_SIGUIENTE])\n",
    "---"
   ]
  },
  {
   "cell_type": "markdown",
   "id": "7c80473d",
   "metadata": {},
   "source": [
    "---\n",
    "### 📚 Navegación\n",
    "\n",
    "[👈 Anterior]([LINK_ANTERIOR]) | [Volver al Índice General 🏠](https://colab.research.google.com/github/ISPC-WEB-2025/Fundamentos-Programacion-Python-TSDWAD-2025/blob/main/00_Indice_General_Guia_Python.ipynb) | [Siguiente 👉]([LINK_SIGUIENTE])\n",
    "---"
   ]
  }
 ],
 "metadata": {
  "language_info": {
   "name": "python"
  }
 },
 "nbformat": 4,
 "nbformat_minor": 5
}
