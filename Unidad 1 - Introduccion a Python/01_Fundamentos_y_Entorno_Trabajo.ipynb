{
  "cells": [
    {
      "cell_type": "markdown",
      "metadata": {
        "id": "aiOe_LdK8t4w"
      },
      "source": [
        "---\n",
        "### 📚 Navegación\n",
        "\n",
        "[Volver al Índice General 🏠](https://colab.research.google.com/github/ISPC-WEB-2025/Fundamentos-Programacion-Python-TSDWAD-2025/blob/main/00_Indice_General_Guia_Python.ipynb) | [Siguiente 👉](https://colab.research.google.com/github/ISPC-WEB-2025/Fundamentos-Programacion-Python-TSDWAD-2025/blob/main/Unidad%201%20-%20Introduccion%20a%20Python/02_Sintaxis_Datos_Variables.ipynb)\n",
        "---\n",
        "\n",
        "# 01 - Fundamentos y Entorno de Trabajo\n",
        "\n",
        "Este notebook introduce los conceptos esenciales del lenguaje. Cubre sus características clave, la filosofía de diseño y los primeros pasos para escribir código, sentando las bases para el aprendizaje de programación utilizando Python.\n",
        "\n",
        "---\n",
        "\n",
        "## 1. ¿Qué es Python?\n",
        "\n",
        "Python es un lenguaje de programación de alto nivel, interpretado, con sintaxis simple, creado por Guido van Rossum y lanzado en 1991. Su diseño busca facilidad de aprendizaje y uso. El lenguaje evoluciona mediante las [PEPs](https://peps.python.org/pep-0000/) (Propuestas de Mejora de Python), que describen cambios y son evaluadas públicamente. Ejemplos notables incluyen PEP 8 (guía de estilo) y PEP 20 (filosofía Zen de Python). Actualmente, es muy popular en análisis de datos, aprendizaje automático, desarrollo web y DevOps, entre otros campos.\n",
        "\n",
        "\n",
        "## 2. Características Principales de Python\n",
        "\n",
        "Algunas de las características principales del lenguaje Python son:\n",
        "\n",
        "* **Sintaxis simple y legible:** Facilita la lectura y escritura del código.\n",
        "* **Interpretado:** El código se ejecuta línea por línea sin compilación previa.\n",
        "* **Tipos dinámicos y fuertemente tipado:** No requiere declaración explícita de tipos, pero previene operaciones entre tipos incompatibles.\n",
        "* **Librerías extensivas y Modularidad:** Cuenta con amplia gama de bibliotecas y usa módulos para organizar el código.\n",
        "* **Programación Orientada a Objetos (POO):** Permite POO, así como programación procedural y funcional.\n",
        "* **Extensible y Multiplataforma:** Fácilmente ampliable con módulos y compatible con Windows, macOS, Linux.\n",
        "\n",
        "## 3. El Zen de Python (Tim Peters)\n",
        "\n",
        "El \"Zen de Python\" es una colección de principios que influyen en el diseño del lenguaje Python. Puedes acceder a ellos ejecutando `import this` en un intérprete de Python. "
      ]
    },
    {
      "cell_type": "code",
      "execution_count": null,
      "metadata": {},
      "outputs": [
        {
          "name": "stdout",
          "output_type": "stream",
          "text": [
            "The Zen of Python, by Tim Peters\n",
            "\n",
            "Beautiful is better than ugly.\n",
            "Explicit is better than implicit.\n",
            "Simple is better than complex.\n",
            "Complex is better than complicated.\n",
            "Flat is better than nested.\n",
            "Sparse is better than dense.\n",
            "Readability counts.\n",
            "Special cases aren't special enough to break the rules.\n",
            "Although practicality beats purity.\n",
            "Errors should never pass silently.\n",
            "Unless explicitly silenced.\n",
            "In the face of ambiguity, refuse the temptation to guess.\n",
            "There should be one-- and preferably only one --obvious way to do it.\n",
            "Although that way may not be obvious at first unless you're Dutch.\n",
            "Now is better than never.\n",
            "Although never is often better than *right* now.\n",
            "If the implementation is hard to explain, it's a bad idea.\n",
            "If the implementation is easy to explain, it may be a good idea.\n",
            "Namespaces are one honking great idea -- let's do more of those!\n"
          ]
        }
      ],
      "source": [
        "# Hace clic en el botón de \"Play\" para ejecutar el código y ver los resultados. Si ves un error, revisa el código y corrige cualquier problema. ¡No te preocupes, es parte del proceso de aprendizaje!\n",
        "import this"
      ]
    },
    {
      "cell_type": "markdown",
      "metadata": {},
      "source": [
        "Aquí algunos de los principios más relevantes para un principiante:\n",
        "**Principios clave a recordar:**\n",
        "\n",
        "  * **Bello es mejor que feo.**\n",
        "  * **Explícito es mejor que implícito.**\n",
        "  * **Simple es mejor que complejo.**\n",
        "  * **Leíble es mejor que difícil de leer.**\n",
        "  * **Los casos especiales no son lo suficientemente especiales como para romper las reglas.** (Aunque la practicidad le gana a la pureza.)"
      ]
    },
    {
      "cell_type": "markdown",
      "metadata": {},
      "source": [
        "## 4\\. Entorno de Trabajo: ¿Dónde escribir y ejecutar Python?\n",
        "\n",
        "Puedes escribir y ejecutar código Python de diversas maneras, adaptándose a tus preferencias y necesidades.\n",
        "\n",
        "### a) Editores de Código Locales (VS Code, PyCharm, Sublime Text)\n",
        "\n",
        "Para trabajar en tu computadora:\n",
        "\n",
        "  * **Instalación de Python:** Necesitas tener Python instalado en tu sistema.\n",
        "      Descarga desde el sitio oficial: https://www.python.org/  \n",
        "  * **Editor de Código:** Utiliza un editor como VS Code, que con las extensiones adecuadas se convierte en un potente entorno de desarrollo.  \n",
        "      Sitio oficial: https://code.visualstudio.com/\n",
        "\n",
        "**Link a Guía Rápida de instalación de Python y Visual Studio Code:**\n",
        "\n",
        "https://youtu.be/7IPgxMg6hLk\n",
        "\n",
        "**Pasos generales para tu primer programa local:**\n",
        "\n",
        "1.  Abre tu editor (ej. VS Code).\n",
        "2.  Crea un nuevo archivo con extensión `.py` (ej. `hola.py`).\n",
        "3.  Escribe tu código.\n",
        "4.  Ejecuta desde la terminal integrada del editor (`python hola.py`).\n",
        "\n",
        "---\n",
        "\n",
        "### b) Entornos de Código Online (Tipo IDE en la Nube)\n",
        "\n",
        "Si prefieres trabajar con un editor de código en la nube, puedes utilizar estas plataformas que ofrecen un entorno de desarrollo completo directamente en tu navegador, simulando la experiencia de un editor de código local. Son ideales para prototipado rápido, proyectos pequeños o cuando no quieres instalar nada en tu máquina.\n",
        "\n",
        "* **Ventajas:** Acceso desde cualquier dispositivo con navegador, configuración mínima, colaboración en tiempo real (en algunos casos), recursos en la nube.\n",
        "* **Desventajas:** Dependencia de la conexión a internet, recursos y funcionalidades pueden ser más limitados que en IDEs locales complejos.\n",
        "* **Ejemplos Comunes y Cómo Empezar:**\n",
        "    * **Replit:** [Visitar Replit](https://replit.com/languages/python3)\n",
        "        * Simplemente selecciona Python, escribe tu código y haz clic en \"Run\".\n",
        "    * **OnlineGDB:** [Visitar OnlineGDB Python Compiler](https://www.onlinegdb.com/online_python_compiler)\n",
        "        * Abre el compilador de Python, escribe tu código en el editor central y presiona \"Run\" para ver la salida en la consola inferior.\n",
        "    * **StackBlitz:** [Visitar StackBlitz](https://stackblitz.com/) (busca un proyecto de Python o inicia uno nuevo)\n",
        "        * Elige una plantilla de Python, escribe tu código en el panel de archivos y el resultado aparecerá en la consola o vista previa.\n",
        "    * **GitHub Codespaces:** Un entorno de desarrollo basado en la nube que se ejecuta directamente desde tu repositorio de GitHub, ofreciendo una experiencia VS Code completa en el navegador.\n",
        "\n",
        "---\n",
        "### c) Entornos de Código Online (Google Colaboratory - Colab)\n",
        "\n",
        "Son excelentes para empezar, ya que no requieren ninguna instalación en tu computadora y funcionan directamente en el navegador. **Usaremos Google Colab en esta guía.**\n",
        "\n",
        "  * **Ventajas:** Acceso instantáneo, fácil de compartir, gratuito, ideal para notebooks interactivos.\n",
        "  * **Desventajas:** Requiere conexión a internet, recursos limitados para tareas muy pesadas.\n",
        "\n",
        "---"
      ]
    },
    {
      "cell_type": "markdown",
      "metadata": {},
      "source": [
        "## 5\\. Tu Primer Programa en Python: \"¡Hola Mundo\\!\"\n",
        "\n",
        "Vamos a escribir y ejecutar nuestro primer código para entender cómo Python procesa instrucciones secuencialmente.\n",
        "\n",
        "### a) La función `print()`\n",
        "\n",
        "La función `print()` se usa para mostrar mensajes en la consola."
      ]
    },
    {
      "cell_type": "code",
      "execution_count": 1,
      "metadata": {},
      "outputs": [
        {
          "name": "stdout",
          "output_type": "stream",
          "text": [
            "¡Hola, mundo desde Python!\n",
            "Bienvenido a esta guía de Fundamentos de Programación.\n"
          ]
        }
      ],
      "source": [
        "# Solo un saludo\n",
        "print(\"¡Hola, mundo desde Python!\")\n",
        "print(\"Bienvenido a esta guía de Fundamentos de Programación.\")"
      ]
    },
    {
      "cell_type": "markdown",
      "metadata": {},
      "source": [
        "### b) La función `input()` para interactuar\n",
        "\n",
        "La función `input()` permite que el usuario ingrese datos desde el teclado."
      ]
    },
    {
      "cell_type": "code",
      "execution_count": 1,
      "metadata": {
        "colab": {
          "base_uri": "https://localhost:8080/"
        },
        "id": "xKEgMv9l8t41",
        "outputId": "c381c418-af47-4dcf-f190-40621136496e"
      },
      "outputs": [
        {
          "name": "stdout",
          "output_type": "stream",
          "text": [
            "Es un placer conocerte, Mike !\n"
          ]
        }
      ],
      "source": [
        "# Pedir y mostrar el nombre del usuario\n",
        "nombre = input(\"¿Cuál es tu nombre? \")\n",
        "print(\"Es un placer conocerte,\", nombre, \"!\")"
      ]
    },
    {
      "cell_type": "markdown",
      "metadata": {
        "id": "MRy3kVIo8t42"
      },
      "source": [
        "## 🚀 ¡Felicitaciones por tus Primeros Pasos en Python!\n",
        "Has completado el viaje inicial por los fundamentos de Python y configurado tu entorno de trabajo. Ya puedes empezar a escribir y ejecutar código, mostrar mensajes en pantalla e incluso interactuar con tus programas pidiendo datos al usuario.\n",
        "\n",
        "Este es un hito importante. Recuerda que la práctica constante es clave. El próximo capítulo cubre en mayor profundidad la sintaxis, las variables, los tipos de datos y los operadores."
      ]
    },
    {
      "cell_type": "markdown",
      "metadata": {},
      "source": [
        "---\n",
        "### 📚 Navegación\n",
        "\n",
        "[Volver al Índice General 🏠](https://colab.research.google.com/github/ISPC-WEB-2025/Fundamentos-Programacion-Python-TSDWAD-2025/blob/main/00_Indice_General_Guia_Python.ipynb) | [Siguiente 👉](https://colab.research.google.com/github/ISPC-WEB-2025/Fundamentos-Programacion-Python-TSDWAD-2025/blob/main/Unidad%201%20-%20Introduccion%20a%20Python/02_Sintaxis_Datos_Variables.ipynb)\n",
        "---"
      ]
    }
  ],
  "metadata": {
    "colab": {
      "provenance": []
    },
    "kernelspec": {
      "display_name": "Python 3",
      "name": "python3"
    },
    "language_info": {
      "codemirror_mode": {
        "name": "ipython",
        "version": 3
      },
      "file_extension": ".py",
      "mimetype": "text/x-python",
      "name": "python",
      "nbconvert_exporter": "python",
      "pygments_lexer": "ipython3",
      "version": "3.13.2"
    }
  },
  "nbformat": 4,
  "nbformat_minor": 0
}
