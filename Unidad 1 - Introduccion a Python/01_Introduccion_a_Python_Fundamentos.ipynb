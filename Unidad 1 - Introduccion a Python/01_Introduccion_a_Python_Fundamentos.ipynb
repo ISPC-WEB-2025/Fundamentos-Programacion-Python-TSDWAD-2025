{
  "cells": [
    {
      "cell_type": "markdown",
      "metadata": {
        "id": "aiOe_LdK8t4w"
      },
      "source": [
        "# 01 - Introducción a Python y Fundamentos\n",
        "\n",
        "Este notebook es el punto de partida para tu viaje en la programación con Python. Abordaremos los conceptos fundamentales del lenguaje, sus características clave, la filosofía detrás de su diseño y cómo empezar a escribir tu primer código.\n",
        "\n",
        "---\n",
        "\n",
        "## 1. ¿Qué es Python?\n",
        "\n",
        "Python es un lenguaje de programación de alto nivel que se ha convertido en una herramienta esencial para desarrolladores de todo el mundo. [cite_start]Su diseño enfatiza la legibilidad del código con una sintaxis que permite a los programadores expresar conceptos complejos en menos líneas de código. [cite: 2]\n",
        "\n",
        "## 2. Características Principales de Python\n",
        "\n",
        "Algunas de las características que hacen a Python tan popular incluyen:\n",
        "\n",
        "* **Sencillo y legible:** Su sintaxis es clara y se asemeja al lenguaje natural, facilitando el aprendizaje.\n",
        "* **Multipropósito:** Se utiliza en desarrollo web, ciencia de datos, inteligencia artificial, automatización, scripting y más.\n",
        "* **Multiplataforma:** Funciona en Windows, macOS, Linux y otros sistemas operativos.\n",
        "* **Interpretado:** El código se ejecuta directamente sin necesidad de una compilación previa a un formato binario.\n",
        "* **Comunidad activa:** Cuenta con una gran comunidad de desarrolladores que contribuyen con librerías y soporte.\n",
        "\n",
        "## 3. El Zen de Python (Tim Peters)\n",
        "\n",
        "El \"Zen de Python\" es una colección de principios que influyen en el diseño del lenguaje Python. Puedes acceder a ellos ejecutando `import this` en un intérprete de Python. Aquí algunos de los principios más relevantes para un principiante:\n",
        "\n",
        "**Principios clave a recordar:**\n",
        "\n",
        "  * **Bello es mejor que feo.**\n",
        "  * **Explícito es mejor que implícito.**\n",
        "  * **Simple es mejor que complejo.**\n",
        "  * **Leíble es mejor que difícil de leer.**\n",
        "  * **Los casos especiales no son lo suficientemente especiales como para romper las reglas.** (Aunque la practicidad le gana a la pureza.)\n",
        "  \n",
        "-----\n",
        "\n",
        "## 4\\. Entorno de Trabajo: ¿Dónde escribir y ejecutar Python?\n",
        "\n",
        "Puedes escribir y ejecutar código Python de diversas maneras, adaptándose a tus preferencias y necesidades.\n",
        "\n",
        "### a) Editores de Código Locales (VS Code, PyCharm, Sublime Text)\n",
        "\n",
        "Para trabajar en tu computadora:\n",
        "\n",
        "  * **Instalación de Python:** Necesitas tener Python instalado en tu sistema.\n",
        "  * **Editor de Código:** Utiliza un editor como VS Code, que con las extensiones adecuadas (como la de Python y Jupyter) se convierte en un potente entorno de desarrollo.\n",
        "\n",
        "**Pasos generales para tu primer programa local:**\n",
        "\n",
        "1.  Abre tu editor (ej. VS Code).\n",
        "2.  Crea un nuevo archivo con extensión `.py` (ej. `hola.py`).\n",
        "3.  Escribe tu código.\n",
        "4.  Ejecuta desde la terminal integrada del editor (`python hola.py`).\n",
        "\n",
        "### b) Entornos de Código Online (Google Colaboratory - Colab)\n",
        "\n",
        "Son excelentes para empezar, ya que no requieren ninguna instalación en tu computadora y funcionan directamente en el navegador. **Google Colab es el más recomendado para este curso.**\n",
        "\n",
        "  * **Ventajas:** Acceso instantáneo, fácil de compartir, gratuito, ideal para notebooks interactivos.\n",
        "  * **Desventajas:** Requiere conexión a internet, recursos limitados para tareas muy pesadas.\n",
        "\n",
        "-----\n",
        "\n",
        "## 5\\. Tu Primer Programa en Python: \"¡Hola Mundo\\!\"\n",
        "\n",
        "Vamos a escribir y ejecutar nuestro primer código para entender cómo Python procesa instrucciones secuencialmente.\n",
        "\n",
        "### a) La función `print()`\n",
        "\n",
        "La función `print()` se usa para mostrar mensajes en la consola."
      ]
    },
    {
      "cell_type": "code",
      "execution_count": 1,
      "metadata": {
        "colab": {
          "base_uri": "https://localhost:8080/"
        },
        "id": "-iaZ2b1v8t4z",
        "outputId": "49de8cea-912a-47ae-b3f1-158cdbe52acb"
      },
      "outputs": [
        {
          "name": "stdout",
          "output_type": "stream",
          "text": [
            "¡Hola, mundo desde Python!\n",
            "Bienvenido al curso de Fundamentos de Programación.\n"
          ]
        }
      ],
      "source": [
        "# Un simple saludo\n",
        "print(\"¡Hola, mundo desde Python!\")\n",
        "print(\"Bienvenido al curso de Fundamentos de Programación.\")"
      ]
    },
    {
      "cell_type": "markdown",
      "metadata": {
        "id": "mS-XVJTh8t40"
      },
      "source": [
        "### b) La función `input()` para interactuar\n",
        "\n",
        "La función `input()` permite que el usuario ingrese datos desde el teclado."
      ]
    },
    {
      "cell_type": "code",
      "execution_count": 2,
      "metadata": {
        "colab": {
          "base_uri": "https://localhost:8080/"
        },
        "id": "xKEgMv9l8t41",
        "outputId": "c381c418-af47-4dcf-f190-40621136496e"
      },
      "outputs": [
        {
          "name": "stdout",
          "output_type": "stream",
          "text": [
            "Es un placer conocerte, Mike !\n"
          ]
        }
      ],
      "source": [
        "# Pedir y mostrar el nombre del usuario\n",
        "nombre = input(\"¿Cuál es tu nombre? \")\n",
        "print(\"Es un placer conocerte,\", nombre, \"!\")"
      ]
    },
    {
      "cell_type": "markdown",
      "metadata": {
        "id": "jTlzy_RV8t41"
      },
      "source": [
        "### c) Ejemplos combinados de operaciones básicas\n",
        "\n",
        "Las instrucciones se ejecutan secuencialmente, una tras otra."
      ]
    },
    {
      "cell_type": "code",
      "execution_count": 3,
      "metadata": {
        "id": "rUTWMSDI8t41"
      },
      "outputs": [
        {
          "name": "stdout",
          "output_type": "stream",
          "text": [
            "--- Calculadora Básica ---\n",
            "La suma es: 12.0\n",
            "La resta es: -2.0\n",
            "La multiplicación es: 35.0\n",
            "La división es: 0.7142857142857143\n",
            "--- Operaciones finalizadas ---\n"
          ]
        }
      ],
      "source": [
        "# Calculadora simple secuencial\n",
        "print(\"--- Calculadora Básica ---\")\n",
        "num1_str = input(\"Ingresa el primer número: \")\n",
        "num2_str = input(\"Ingresa el segundo número: \")\n",
        "\n",
        "# Convertir las entradas a números (enteros o flotantes)\n",
        "num1 = float(num1_str)\n",
        "num2 = float(num2_str)\n",
        "\n",
        "suma = num1 + num2\n",
        "resta = num1 - num2\n",
        "multiplicacion = num1 * num2\n",
        "division = num1 / num2\n",
        "\n",
        "print(f\"La suma es: {suma}\")\n",
        "print(f\"La resta es: {resta}\")\n",
        "print(f\"La multiplicación es: {multiplicacion}\")\n",
        "print(f\"La división es: {division}\")\n",
        "print(\"--- Operaciones finalizadas ---\")"
      ]
    },
    {
      "cell_type": "markdown",
      "metadata": {
        "id": "MRy3kVIo8t42"
      },
      "source": [
        "-----\n",
        "\n",
        "## 6\\. Ejercicios Propuestos\n",
        "\n",
        "Estos ejercicios te ayudarán a familiarizarte con las operaciones básicas y la entrada/salida de datos, preparando el terreno para las estructuras de control.\n",
        "\n",
        "1.  **Área de un Círculo:** Escribe un programa que pida al usuario el radio de un círculo y calcule su área (Área = π \\* radio²). Puedes usar `3.14159` como valor de π."
      ]
    },
    {
      "cell_type": "code",
      "execution_count": null,
      "metadata": {},
      "outputs": [],
      "source": [
        "# Espacio para escribir código\n"
      ]
    },
    {
      "cell_type": "markdown",
      "metadata": {},
      "source": [
        "2.  **Conversor de Temperatura:** Escribe un programa que convierta una temperatura dada en grados Celsius a grados Fahrenheit (F = C \\* 1.8 + 32).\n"
      ]
    },
    {
      "cell_type": "code",
      "execution_count": null,
      "metadata": {},
      "outputs": [],
      "source": [
        "# Espacio para escribir código\n"
      ]
    },
    {
      "cell_type": "markdown",
      "metadata": {},
      "source": [
        "3.  **Hipotenusa de un Triángulo:** Escribe un programa que pida al usuario los dos catetos de un triángulo rectángulo y calcule la hipotenusa (Hipotenusa² = CatetoA² + CatetoB²). Puedes usar `** 0.5` para la raíz cuadrada."
      ]
    },
    {
      "cell_type": "code",
      "execution_count": null,
      "metadata": {},
      "outputs": [],
      "source": [
        "# Espacio para escribir código\n"
      ]
    },
    {
      "cell_type": "markdown",
      "metadata": {},
      "source": [
        "4.  **Saludo Personalizado con Edad:** Escribe un programa que pida al usuario su año de nacimiento, calcule su edad y genere un mensaje de saludo personalizado que incluya su nombre y edad."
      ]
    },
    {
      "cell_type": "code",
      "execution_count": null,
      "metadata": {},
      "outputs": [],
      "source": [
        "# Espacio para escribir código\n"
      ]
    }
  ],
  "metadata": {
    "colab": {
      "provenance": []
    },
    "kernelspec": {
      "display_name": "Python 3",
      "name": "python3"
    },
    "language_info": {
      "codemirror_mode": {
        "name": "ipython",
        "version": 3
      },
      "file_extension": ".py",
      "mimetype": "text/x-python",
      "name": "python",
      "nbconvert_exporter": "python",
      "pygments_lexer": "ipython3",
      "version": "3.13.5"
    }
  },
  "nbformat": 4,
  "nbformat_minor": 0
}
