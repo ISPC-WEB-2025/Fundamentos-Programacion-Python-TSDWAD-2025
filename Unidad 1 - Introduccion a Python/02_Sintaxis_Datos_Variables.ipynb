{
 "cells": [
  {
   "cell_type": "markdown",
   "id": "e9327933",
   "metadata": {},
   "source": [
    "[👈 Anterior](https://colab.research.google.com/github/ISPC-WEB-2025/Fundamentos-Programacion-Python-TSDWAD-2025/blob/main/Unidad%201%20-%20Introduccion%20a%20Python/01_Fundamentos_y_Entorno_Trabajo.ipynb) | [Volver al Índice General 🏠](https://colab.research.google.com/github/ISPC-WEB-2025/Fundamentos-Programacion-Python-TSDWAD-2025/blob/main/00_Indice_General_Guia_Python.ipynb) | [Siguiente 👉]()\n",
    "\n",
    "-----\n",
    "\n",
    "# 02 - Sintaxis Básica, Variables, Tipos de Datos y Operadores\n",
    "\n",
    "Este notebook te sumerge en los fundamentos del lenguaje Python: cómo se escribe el código, el manejo de variables y constantes, los tipos de datos esenciales y el uso de operadores para construir expresiones lógicas y matemáticas.\n",
    "\n",
    "-----\n",
    "\n",
    "## 🎯 Índice de Contenidos:\n",
    "\n",
    " * [1. Introducción a la Sintaxis](#1-introduccion-a-la-sintaxis)\n",
    "    * [1.1. Sintaxis Básica y Elementos](#11-sintaxis-basica-y-elementos)\n",
    "    * [1.2. Identificadores y Palabras Reservadas](#12-identificadores-y-palabras-reservadas)\n",
    "    * [1.3. Espacios, Saltos de Línea y Comentarios](#13-espacios-saltos-de-linea-y-comentarios)\n",
    "\n",
    "* [2. Variables y Constantes](#2-variables-y-constantes)\n",
    "    * [2.1. Variables](#21-variables)\n",
    "    * [2.2. Constantes](#22-constantes)\n",
    "\n",
    "* [3. Tipos de Datos](#3-tipos-de-datos)\n",
    "    * [3.1. Datos Primitivos](#31-tipos-de-datos-primitivos)\n",
    "    * [3.2. Datos No Primitivos](#32-tipos-de-datos-no-primitivos)\n",
    "    * [3.3. Datos Definidos por el Usuario](#33-tipos-de-datos-definidos-por-el-usuario)\n",
    "    \n",
    "* [4. Operadores y Expresiones](#4-operadores-y-expresiones)\n",
    "    * [4.1. Clasificación](#41-operadores-aritmeticos)\n",
    "    * [4.2. Operadores Relacionales](#42-operadores-de-comparacion-relacionales)\n",
    "    * [4.3. Operadores Lógicos](#43-operadores-logicos)\n",
    "    * [4.4. Operadores de Asignación](#44-operadores-de-asignacion)\n",
    "    * [4.5. Operador Condicional (Ternario)](#45-operador-condicional-ternario)\n",
    "    \n",
    "\n",
    "-----"
   ]
  },
  {
   "cell_type": "markdown",
   "id": "b90c8f95",
   "metadata": {},
   "source": [
    "## 1\\. Introducción a la Sintaxis\n",
    "\n",
    "La sintaxis define las reglas de escritura del código Python, garantizando que el intérprete pueda entender y ejecutar las instrucciones.\n",
    "\n",
    "### 1.1. Sintaxis Básica y Elementos\n",
    "\n",
    "Python destaca por su sintaxis clara y concisa. A diferencia de otros lenguajes, usa la **indentación** para delimitar bloques de código, lo que fomenta la legibilidad. Cada instrucción se escribe en una línea separada.\n",
    "Un programa está compuesto por:\n",
    "- Módulos\n",
    "- Funciones\n",
    "- Clases\n",
    "- Variables\n",
    "- Declaraciones y expresiones\n",
    "- Comentarios\n",
    "\n",
    "Un módulo es la unidad más fundamental de organización de código en Python. Y es simplemente un archivo de Python (.py) que contiene código Python: funciones, clases, variables, y cualquier otra instrucción. \n",
    "\n",
    "Cuando hacemos por ejemplo `import mi_modulo`, Python busca un archivo `mi_modulo.py` y carga su contenido.\n",
    "\n",
    "Los módulos ayudan a organizar el código, evitar conflictos de nombres (cada módulo tiene su propio espacio de nombres) y reutilizar código."
   ]
  },
  {
   "cell_type": "markdown",
   "id": "5a11b795",
   "metadata": {},
   "source": [
    "### 1.2. Identificadores y Palabras Reservadas\n",
    "\n",
    "Los **identificadores** son nombres que damos a elementos como variables, funciones o clases. Deben seguir reglas específicas (ej., empezar con letra o guion bajo). Las **palabras reservadas** son términos con significado especial para Python y no pueden usarse como identificadores (ej., `if`, `while`, `True`).\n",
    "\n",
    "#### **Reglas para los identificadoes:**\n",
    "- Pueden contener tanto letras como números y el caracter guión bajo (_)\n",
    "- No pueden: \n",
    "  - comenzar con un número\n",
    "  - contener caracteres especiales ni espacios en blanco\n",
    "  - ser palabras reservadas del lenguaje\n",
    "- Deben ser únicos\n",
    "- Son case-sensitive (distinguen minúsculas y mayúsculas dentro del nombre)\n",
    "\n",
    "#### **Elegir un buen nombre**\n",
    "Recomendaciones:\n",
    "- Descriptivo (evitar nombres genéricos) y conciso: describir claramente su propósito o contenido, sin perder claridad.\n",
    "- Notación snake_case (uso de minúsculas, y el guión bajo para separar palabras en los nombres de las variables)\n",
    "\n",
    "Regla general:\n",
    "- **sustantivos** para variables y nombres de clases\n",
    "- **verbos** para funciones y métodos\n",
    "- **adjetivos** para variables booleanas"
   ]
  },
  {
   "cell_type": "code",
   "execution_count": null,
   "id": "9c5ccdea",
   "metadata": {},
   "outputs": [],
   "source": [
    "# Ejemplo de mala práctica:\n",
    "a = \"Leonel\"\n",
    "b = 20\n",
    "c = [85, 90, 92] # Esto es una mala práctica porque las variables no tienen nombres descriptivos y no siguen una convención clara.\n",
    "\n",
    "# Ejemplo de buena práctica:\n",
    "first_name = \"Leonel\"\n",
    "last_name = \"Pérez\"\n",
    "birth_date = \"1990-01-01\""
   ]
  },
  {
   "cell_type": "markdown",
   "id": "6942f63d",
   "metadata": {},
   "source": [
    "### 1.3. Espacios, Saltos de Línea y Comentarios\n",
    "\n",
    "En Python los espacios en blanco y saltos de línea son importantes para la legibilidad, la estructura del código y la indentación.\n",
    "- **Indentación (dos espacios en blanco):** Es obligatoria en Python, se utiliza para delinear los bloques de código.\n",
    "- **Espacios en blanco:** Se recomienda usar \"un espacio en blanco\" antes y después de los operadores (+, -, *, etc). Evitar uso excesivo, ya que puede llevar a problemas de indentación.\n",
    "- **Saltos de línea:** Marca el fin de una línea de código y el inicio de la siguiente. Se recomienda dejar una línea en blanco al final del archivo *.py.\n",
    "\n",
    "Con respecto a los comentarios, como ya hemos visto en los ejemplos, estos nos pueden ayudar a comprender el código, ¡pero no debemos abusar de ellos! El código debería explicarse por sí mismo.\n",
    "\n",
    "Por ello, es recomendable usar los comentarios sólo para incluir información adicional como por ejemplo: el autor del código, sugerencias sobre una función/construcción, etc. El intérprete ignora los comentarios. Python permite las siguientes formas para trabajar comentarios:"
   ]
  },
  {
   "cell_type": "code",
   "execution_count": null,
   "id": "c9aca6da",
   "metadata": {},
   "outputs": [],
   "source": [
    "# Comentarios de una sola línea: Empiezan con el símbolo # y se extienden hasta el final de la línea.\n",
    "def resta(a, b):\n",
    "    return a - b # Esto es un comentario de una sola línea\n",
    "\n",
    "# También se puede comentar varias líneas usando el símbolo `#` al inicio de cada línea, \n",
    "# pero es más común usar comillas triples para crear un bloque de texto que actúa como comentario.\n",
    "\n",
    "\"\"\"Comentarios de múltiples líneas: no hay una sintaxis específica para comentarios de varias líneas, puedes usar varias líneas individuales de comentarios \n",
    "consecutivos o cadenas de texto de múltiples líneas no asignadas a ninguna variable.\"\"\"\n",
    "\n",
    "# También puedes usar comillas triples para crear comentarios de varias líneas, aunque esto se usa más comúnmente para cadenas de documentación (docstrings) en funciones o clases.\n",
    "def suma(a, b):\n",
    "    '''Esta función suma dos números y devuelve el resultado.\n",
    "    Parámetros:\n",
    "    a (int): El primer número. \n",
    "    b (int): El segundo número.\n",
    "    Devuelve:\n",
    "    int: La suma de a y b. '''\n",
    "    return a + b\n",
    "\n",
    "# Recuerda que al ejecutar este bloque de código, las funciones `resta` y `suma` estarán disponibles para su uso en el entorno de Python dentro de este notebook."
   ]
  },
  {
   "attachments": {
    "image.png": {
     "image/png": "[encoded data removed]"
    }
   },
   "cell_type": "markdown",
   "id": "1bb2712a",
   "metadata": {},
   "source": [
    "## 2\\. Variables y Constantes\n",
    "\n",
    "Las variables y constantes son contenedores para almacenar datos, esenciales para manipular información en los programas.\n",
    "\n",
    "### 2.1. Variables\n",
    "\n",
    "Las **variables** son espacios de memoria con un nombre asociado, donde se guardan valores que pueden cambiar durante la ejecución del programa. En Python, no necesitan ser declaradas con un tipo explícito y se crean al asignarles un valor.\n",
    "\n",
    "#### Sintaxis y declaración de variables:\n",
    "- Las variables se declaran asignando un valor a un nombre de variable, esto se hace con el operador de asignación `=`.\n",
    "- Los nombres de las variables deben ser descriptivos y seguir una convención clara para facilitar la comprensión del código.\n",
    "- Los nombres de las variables deben comenzar con una letra o un guion bajo (_), seguido de letras, números o guiones bajos.\n",
    "- Los nombres de las variables son sensibles a mayúsculas y minúsculas, lo que significa que `variable`, `Variable` y `VARIABLE` son tres variables diferentes.\n",
    "\n",
    "#### Características\n",
    "- Asignación de variables: Se crean al momento de asignarles un valor mediante `=`.\n",
    "- Tipado dinámico: No es necesario declarar el tipo de variable, se determina automáticamente según el valor asignado.\n",
    "- Tipado fuerte: No se admiten conversiones automáticas de tipos sin que se especifique explícitamente, esto evita errores al mezclar tipos de datos diferentes.\n",
    "\n",
    "#### Ámbito de una variable\n",
    "Es la región de código en la que está definida y es accesible\n",
    "- **Ámbito global:** Definidas fuera de cualquier función y pueden ser accedidas desde cualquier parte del módulo.\n",
    "- **Ámbito local:** Definidas dentro de una función o método, por lo que solo pueden ser accedidas dentro del mismo. No acectan ni son afectadas por otras funciones\n",
    "definidas fuera de la función.\n",
    "- **Ámbito no local:** Se utilizan en funciones anidades. Se definen en una función externa y son accesibles en las funciones internas.\n",
    "\n",
    "![image.png](attachment:image.png)"
   ]
  },
  {
   "cell_type": "code",
   "execution_count": null,
   "id": "82e0e028",
   "metadata": {},
   "outputs": [],
   "source": [
    "# Este ejemplo ilustra los diferentes ámbitos de variables en Python. (incluyendo global, local y nonlocal, y modificando variables de diferentes ámbitos)\n",
    "\n",
    "# Variable en el ámbito global del módulo\n",
    "variable_global_a = \"GLOBAL: Original\"\n",
    "\n",
    "def funcion_padre():\n",
    "    # Variable LOCAL a funcion_padre, pero NONLOCAL para la anidada\n",
    "    variable_padre_b = \"PADRE: Original\"\n",
    "\n",
    "    def funcion_hija():\n",
    "        # Modificamos la variable GLOBAL\n",
    "        global variable_global_a\n",
    "        variable_global_a = \"GLOBAL: MODIFICADO por funcion_hija\"\n",
    "\n",
    "        # Modificamos la variable NONLOCAL (del padre)\n",
    "        nonlocal variable_padre_b\n",
    "        variable_padre_b = \"PADRE: MODIFICADO por funcion_hija (nonlocal)\"\n",
    "\n",
    "    print(f\"1. Antes de llamar a funcion_hija (en padre): variable_padre_b = '{variable_padre_b}'\")\n",
    "    print(f\"2. Antes de llamar a funcion_hija (global vista desde padre): variable_global_a = '{variable_global_a}'\")\n",
    "\n",
    "    funcion_hija() # La función hija modifica ambas variables \"arriba\"\n",
    "\n",
    "    print(f\"3. Después de llamar a funcion_hija (en padre): variable_padre_b = '{variable_padre_b}'\")\n",
    "    print(f\"4. Después de llamar a funcion_hija (global vista desde padre): variable_global_a = '{variable_global_a}'\")\n",
    "\n",
    "\n",
    "# ==========================================================\n",
    "# EJECUCIÓN\n",
    "# ==========================================================\n",
    "print(\"--- INICIO ---\")\n",
    "\n",
    "print(f\"0. Al inicio del script: variable_global_a = '{variable_global_a}'\")\n",
    "\n",
    "funcion_padre()\n",
    "\n",
    "print(\"\\n--- Despues de ejecutar funcion_padre ---\")\n",
    "print(f\"5. Fuera de funciones: variable_global_a = '{variable_global_a}'\")\n",
    "\n",
    "# print(variable_padre_b) # NameError: variable_padre_b no existe aquí (era local a funcion_padre)"
   ]
  },
  {
   "cell_type": "markdown",
   "id": "9c952aed",
   "metadata": {},
   "source": [
    "#### Valor y Tipo de una variable\n",
    "\n",
    "La función `print()` se utiliza para mostrar valores o mensajes en la consola. Es fundamental para depurar y entender el flujo de tu programa.\n",
    "\n",
    "La función `type()` permite conocer el tipo de dato de una variable o expresión en un momento dado. Esto es esencial para el tipado dinámico de Python, ya que te ayuda a confirmar cómo Python interpreta tus datos y qué operaciones son válidas sobre ellos.\n",
    "\n",
    "Para conocer el valor de una variable o simplemente mostrar un mensaje, utilizamos la función `print()`.\n",
    "\n",
    "**Ejemplo:**\n",
    "```python\n",
    "nombre = \"Camila\"\n",
    "print(nombre) # Esto imprimirá: Camila\n",
    "```\n",
    "\n",
    "Para determinar el tipo de dato de una variable, utilizamos la función `type()`.\n",
    "\n",
    "Ejemplo:"
   ]
  },
  {
   "cell_type": "code",
   "execution_count": null,
   "id": "ae5a9e92",
   "metadata": {},
   "outputs": [
    {
     "name": "stdout",
     "output_type": "stream",
     "text": [
      "<class 'int'>\n",
      "<class 'float'>\n",
      "<class 'bool'>\n",
      "<class 'str'>\n",
      "\n",
      "# Puede ser útil imprimir tanto el valor como el tipo de una variable para un mejor entendimiento.\n",
      "El valor de la variable es: 123.45\n",
      "El tipo de la variable es: <class 'float'>\n"
     ]
    }
   ],
   "source": [
    "edad = 30\n",
    "altura = 1.75\n",
    "esta_activo = True\n",
    "mensaje = \"Hola mundo\"\n",
    "\n",
    "print(type(edad))         # Output: <class 'int'>\n",
    "print(type(altura))       # Output: <class 'float'>\n",
    "print(type(esta_activo))  # Output: <class 'bool'>\n",
    "print(type(mensaje))      # Output: <class 'str'>\n",
    "\n",
    "print() # \"Imprimo\" línea en blanco para mejor legibilidad\n",
    "\n",
    "print(\"# Puede ser útil imprimir tanto el valor como el tipo de una variable para un mejor entendimiento.\")\n",
    "\n",
    "valor_ejemplo = 123.45\n",
    "print(f\"El valor de la variable es: {valor_ejemplo}\")\n",
    "print(f\"El tipo de la variable es: {type(valor_ejemplo)}\")\n",
    "\n"
   ]
  },
  {
   "attachments": {
    "image.png": {
     "image/png": "[encoded data removed]"
    }
   },
   "cell_type": "markdown",
   "id": "6486587b",
   "metadata": {},
   "source": [
    "### 2.2. Constantes\n",
    "\n",
    "Python no tiene constantes inmutables por naturaleza. Las **constantes** son variables cuyo valor se espera que no cambie. Por convención, se nombran en **MAYÚSCULAS\\_SOSTENIDAS** para indicar a los desarrolladores que su valor es fijo y no deben ser modificadas.\n",
    "\n",
    "#### Características\n",
    "- Inmutabilidad\n",
    "- Convención de Nomenclatura (mayúsculas)\n",
    "- Documentación: para indicar claramente su propósito y q no deben modificarse\n",
    "\n",
    "## 3\\. Tipos de Datos\n",
    "\n",
    "Los tipos de datos clasifican la información que Python puede procesar, indicando qué operaciones son válidas. Recordemos que Python es de tipado dinámico (no se declara el tipo) pero fuertemente tipado (no permite operaciones entre tipos incompatibles sin conversión).\n",
    "\n",
    "![image.png](attachment:image.png)\n",
    "\n",
    "### 3.1. Tipos de Datos Primitivos\n",
    "\n",
    "Los tipos de datos primitivos son los bloques constructivos básicos:\n",
    "\n",
    "  * **Números:** `int` (enteros), `float` (números con decimales), `complex` (números complejos).\n",
    "  * **Booleanos:** `bool` (valores `True` o `False`).\n",
    "  * **Cadenas de Texto:** `str` (secuencias de caracteres, inmutables).\n",
    "  * **Ninguno:** `NoneType`, representa la ausencia de valor\n",
    "\n",
    "\n",
    "#### Conversión entre Tipos de Datos\n",
    "\n",
    "A menudo es necesario cambiar el tipo de un dato. Python ofrece funciones integradas para la **conversión explícita** (o *casting*), como `int()`, `float()`, `str()` o `bool()`, que permiten transformar un valor de un tipo a otro compatible.\n",
    "\n",
    "### 3.2. Tipos de Datos No Primitivos\n",
    "\n",
    "Los tipos de datos no primitivos en Python son estructuras de datos más complejas que están construidas a partir de los tipos primitivos. Estos tipos de datos permiten organizar y manipular información de maneras más sofisticadas.\n",
    "\n",
    "-----\n",
    "**Nota:** No te preocupes si algún ejemplo no comprendes completamente hasta aquí. Estaremos abordando en este documento más adelante en detalle cada uno de ellos.\n",
    "\n",
    "-----\n",
    "\n",
    "- Listas (`list`)\n",
    "Representan una colección ordenada y mutable de elementos. Puedes cambiar, agregar o eliminar elementos después de crear la lista."
   ]
  },
  {
   "cell_type": "code",
   "execution_count": null,
   "id": "9cd5c72b",
   "metadata": {},
   "outputs": [],
   "source": [
    "print(\"### Listas (`list`)\\n\")\n",
    "# Definición de una lista\n",
    "frutas = [\"manzana\", \"naranja\", \"mandarina\"]\n",
    "print(f\"Lista original: {frutas}\")\n",
    "\n",
    "# Acceso a elementos por índice\n",
    "print(f\"Primer elemento (frutas[0]): {frutas[0]}\")\n",
    "\n",
    "# Añadir un elemento\n",
    "frutas.append(\"uva\")\n",
    "print(f\"Lista después de añadir 'uva': {frutas}\")\n",
    "\n",
    "# Modificar un elemento\n",
    "frutas[1] = \"pera\"\n",
    "print(f\"Lista después de modificar el segundo elemento: {frutas}\")\n",
    "\n",
    "# Eliminar un elemento\n",
    "frutas.remove(\"manzana\")\n",
    "print(f\"Lista después de eliminar 'manzana': {frutas}\")\n",
    "print(\"\\n\" + \"-\"*30 + \"\\n\")"
   ]
  },
  {
   "cell_type": "markdown",
   "id": "ad8cd01f",
   "metadata": {},
   "source": [
    "- Tuplas (`tuple`)\n",
    "Representan una colección ordenada e inmutable de elementos. Es decir que, una vez creadas, no puedes cambiar sus elementos (ni agregar, ni eliminar, ni modificar). Son útiles para datos que no deben cambiar."
   ]
  },
  {
   "cell_type": "code",
   "execution_count": null,
   "id": "f918c3e0",
   "metadata": {},
   "outputs": [],
   "source": [
    "print(\"### Tuplas (`tuple`)\\n\")\n",
    "\n",
    "# Definición de una tupla\n",
    "punto = (10, 20)\n",
    "print(f\"Tupla original: {punto}\")\n",
    "\n",
    "# Acceso a elementos\n",
    "print(f\"Primer elemento (punto[0]): {punto[0]}\")\n",
    "\n",
    "# Intentar cambiar un elemento (generará un error)\n",
    "print(\"Intentando modificar el primer elemento (esto causará un TypeError)...\")\n",
    "try:\n",
    "    punto[0] = 30\n",
    "except TypeError as e:\n",
    "    print(f\"ERROR ESPERADO: {e}\")\n",
    "print(\"\\n\" + \"-\"*30 + \"\\n\")"
   ]
  },
  {
   "cell_type": "markdown",
   "id": "c7eed26d",
   "metadata": {},
   "source": [
    "\n",
    "- Conjuntos (`set`)\n",
    "Son colecciones desordenadas de elementos únicos. Los elementos duplicados no son permitidos, y si intentas añadir uno que ya existe, simplemente será ignorado."
   ]
  },
  {
   "cell_type": "code",
   "execution_count": null,
   "id": "c1ddc218",
   "metadata": {},
   "outputs": [],
   "source": [
    "print(\"### Conjuntos (`set`)\\n\")\n",
    "\n",
    "# Definición de un conjunto\n",
    "colores = {\"rojo\", \"verde\", \"azul\"}\n",
    "print(f\"Conjunto original: {colores}\")\n",
    "\n",
    "# Añadir un elemento\n",
    "colores.add(\"amarillo\")\n",
    "print(f\"Conjunto después de añadir 'amarillo': {colores}\")\n",
    "\n",
    "# Intentar añadir un elemento duplicado (no hace nada)\n",
    "print(\"Intentando añadir 'rojo' de nuevo (ya existe)...\")\n",
    "colores.add(\"rojo\")\n",
    "print(f\"Conjunto después de intentar añadir 'rojo' de nuevo: {colores}\")\n",
    "\n",
    "# Eliminar un elemento\n",
    "colores.remove(\"rojo\")\n",
    "print(f\"Conjunto después de eliminar 'rojo': {colores}\")\n",
    "print(\"\\n\" + \"-\"*30 + \"\\n\")"
   ]
  },
  {
   "cell_type": "markdown",
   "id": "9888c06c",
   "metadata": {},
   "source": [
    "- Conjuntos Inmutables (`frozenset`)\n",
    "Son como los conjuntos (`set`), pero inmutables. Una vez creados, no puedes cambiar sus elementos (ni agregar, ni eliminar). Son útiles cuando necesitas una colección de elementos únicos que no varíe."
   ]
  },
  {
   "cell_type": "code",
   "execution_count": null,
   "id": "cadb9d65",
   "metadata": {},
   "outputs": [],
   "source": [
    "print(\"### Conjuntos Inmutables (`frozenset`)\\n\")\n",
    "\n",
    "# Definición de un conjunto inmutable\n",
    "dias = frozenset([\"lunes\", \"martes\", \"miércoles\"])\n",
    "print(f\"Frozenset original: {dias}\")\n",
    "\n",
    "# Intentar añadir un elemento (generará un error)\n",
    "print(\"Intentando añadir un elemento (esto causará un AttributeError)...\")\n",
    "try:\n",
    "    dias.add(\"jueves\")\n",
    "except AttributeError as e:\n",
    "    print(f\"ERROR ESPERADO: {e}\")\n",
    "    \n",
    "# Intentar eliminar un elemento (generará un error)\n",
    "print(\"Intentando eliminar un elemento (esto causará un AttributeError)...\")\n",
    "try:\n",
    "    dias.remove(\"lunes\")\n",
    "except AttributeError as e:\n",
    "    print(f\"ERROR ESPERADO: {e}\")\n",
    "print(\"\\n\" + \"-\"*30 + \"\\n\")"
   ]
  },
  {
   "cell_type": "markdown",
   "id": "bdc54552",
   "metadata": {},
   "source": [
    "- Diccionarios (`dict`)\n",
    "Son colecciones de pares clave-valor. Cada clave debe ser única (e inmutable, como cadenas o tuplas) y se usa para acceder al valor asociado. Son ideales para representar datos estructurados donde cada pieza de información tiene un nombre."
   ]
  },
  {
   "cell_type": "code",
   "execution_count": 14,
   "id": "f524b96d",
   "metadata": {},
   "outputs": [
    {
     "name": "stdout",
     "output_type": "stream",
     "text": [
      "### Diccionarios (`dict`)\n",
      "\n",
      "Diccionario original: {'nombre': 'Camila', 'edad': 11}\n",
      "Nombre de la persona: Camila\n",
      "Diccionario después de añadir 'ciudad': {'nombre': 'Camila', 'edad': 11, 'ciudad': 'Buenos Aires'}\n",
      "Diccionario después de modificar 'edad': {'nombre': 'Camila', 'edad': 12, 'ciudad': 'Buenos Aires'}\n",
      "Diccionario después de eliminar 'edad': {'nombre': 'Camila', 'ciudad': 'Buenos Aires'}\n",
      "Intentando acceder a una clave inexistente (esto causará un KeyError)...\n",
      "ERROR ESPERADO: 'pais'\n",
      "\n",
      "------------------------------\n",
      "\n"
     ]
    }
   ],
   "source": [
    "print(\"### Diccionarios (`dict`)\\n\")\n",
    "\n",
    "# Definición de un diccionario\n",
    "persona = {\"nombre\": \"Camila\", \"edad\": 11}\n",
    "print(f\"Diccionario original: {persona}\")\n",
    "\n",
    "# Acceso a un valor\n",
    "print(f\"Nombre de la persona: {persona['nombre']}\")\n",
    "\n",
    "# Añadir un nuevo par clave-valor\n",
    "persona[\"ciudad\"] = \"Buenos Aires\"\n",
    "print(f\"Diccionario después de añadir 'ciudad': {persona}\")\n",
    "\n",
    "# Modificar un valor existente\n",
    "persona[\"edad\"] = 12\n",
    "print(f\"Diccionario después de modificar 'edad': {persona}\")\n",
    "\n",
    "# Eliminar un par clave-valor\n",
    "del persona[\"edad\"]\n",
    "print(f\"Diccionario después de eliminar 'edad': {persona}\")\n",
    "\n",
    "# Intentar acceder a una clave que no existe (causa KeyError)\n",
    "print(\"Intentando acceder a una clave inexistente (esto causará un KeyError)...\")\n",
    "try:\n",
    "    print(persona[\"pais\"])\n",
    "except KeyError as e:\n",
    "    print(f\"ERROR ESPERADO: {e}\")\n",
    "print(\"\\n\" + \"-\"*30 + \"\\n\")"
   ]
  },
  {
   "cell_type": "markdown",
   "id": "aa3af2fb",
   "metadata": {},
   "source": [
    "### 3.3. Tipos de Datos Definidos por el Usuario\n",
    "\n",
    "Los tipos de datos definidos por el usuario son tipos de datos no primitivos que podemos modelar para crear estructuras de datos más complejas y específicas de acuerdo a \n",
    "las necesidades o requerimientos.\n",
    "\n",
    "#### 3.3.1. Enumeración\n",
    "\n",
    "Las enumeraciones (o `Enum`) permiten crear un conjunto de nombres simbólicos (miembros) que están enlazados a valores constantes únicos. Son útiles para definir un conjunto fijo de opciones o estados que un programa puede tener, mejorando la legibilidad y evitando errores por el uso de \"cadenas mágicas\" o números arbitrarios.\n",
    "\n",
    "Para usar enumeraciones en Python, necesitas importar el módulo `enum` y la clase `Enum`.\n",
    "\n",
    "Los números en las enumeraciones no se usan directamente para la lógica del programa o cálculos, sino que sirven como una representación subyacente o un identificador único para cada miembro simbólico. Su uso principal es para:\n",
    "- Identificación interna/Persistencia: Son útiles cuando necesitas almacenar o transmitir el estado de un Enum de forma compacta, como en bases de datos o APIs, donde es más práctico guardar un número o una cadena que el objeto Enum completo.\n",
    "- Claridad Opcional: En algunos casos, un número puede tener un significado preexistente en el dominio del problema (como códigos de estado HTTP), y asignarlo a un miembro de Enum puede hacer el código más claro y compatible."
   ]
  },
  {
   "cell_type": "code",
   "execution_count": null,
   "id": "4490d356",
   "metadata": {},
   "outputs": [],
   "source": [
    "# Ejemplo de Enumeración\n",
    "\n",
    "from enum import Enum\n",
    "\n",
    "print(\"--- Demostración de Enumeraciones ---\")\n",
    "\n",
    "# 1. Definición de una enumeración\n",
    "class EstadoPedido(Enum):\n",
    "    PENDIENTE = 1\n",
    "    PROCESANDO = 2\n",
    "    ENVIADO = 3\n",
    "    ENTREGADO = 4\n",
    "    CANCELADO = 5\n",
    "\n",
    "print(\"Enumeración 'EstadoPedido' definida.\")\n",
    "\n",
    "# 2. Acceso a los miembros de la enumeración\n",
    "estado_actual = EstadoPedido.PROCESANDO\n",
    "print(f\"\\nEstado actual del pedido: {estado_actual}\")\n",
    "print(f\"Valor numérico del estado: {estado_actual.value}\")\n",
    "print(f\"Nombre del miembro del estado: {estado_actual.name}\")\n",
    "\n",
    "# 3. Comparación de estados\n",
    "otro_estado = EstadoPedido.ENVIADO\n",
    "if estado_actual == EstadoPedido.PROCESANDO:\n",
    "    print(f\"El pedido está actualmente en procesamiento.\")\n",
    "if otro_estado != EstadoPedido.CANCELADO:\n",
    "    print(f\"El pedido no ha sido cancelado. Su estado es: {otro_estado.name}\")\n",
    "\n",
    "# 4. Iterar sobre los miembros de una enumeración\n",
    "print(\"\\nTodos los estados posibles:\")\n",
    "for estado in EstadoPedido:\n",
    "    print(f\"- {estado.name} ({estado.value})\")\n",
    "\n",
    "print(\"--- Fin de la demostración de Enumeraciones ---\\n\")"
   ]
  },
  {
   "cell_type": "markdown",
   "id": "eddf1c92",
   "metadata": {},
   "source": [
    "Las \"cadenas mágicas\" (en inglés, \"magic strings\") son cadenas de texto que aparecen directamente en el código sin ninguna explicación o contexto adicional, y cuyo significado no es obvio ni está centralizado. Suelen representar valores fijos que el programa espera, como nombres de estados, tipos de operaciones, o claves para diccionarios.\n",
    "\n",
    "Problemas que causan las cadenas mágicas:\n",
    "- Errores de tipeo: Un simple error al escribir la cadena (ej. \"Pendiete\" en lugar de \"Pendiente\") puede causar fallos difíciles de depurar, ya que Python no lo detectará como un error de sintaxis.\n",
    "- Dificultad para refactorizar: Si necesitas cambiar el valor de una cadena mágica, tienes que buscar y reemplazar cada ocurrencia en todo el código, lo cual es propenso a errores.\n",
    "- Baja legibilidad: El código se vuelve menos claro porque el lector tiene que adivinar qué significa esa cadena en particular.\n",
    "- Duplicación de código: El mismo valor de cadena puede aparecer repetido en múltiples lugares."
   ]
  },
  {
   "cell_type": "code",
   "execution_count": null,
   "id": "2bbd1559",
   "metadata": {},
   "outputs": [],
   "source": [
    "# EJEMPLO DE CÓDIGO CON CADENAS MÁGICAS\n",
    "\n",
    "estado_pedido_1 = \"pendiente\"\n",
    "estado_pedido_2 = \"enviado\"\n",
    "\n",
    "def procesar_pedido(estado):\n",
    "    if estado == \"pendiente\": # <-- \"pendiente\" es una cadena mágica\n",
    "        print(\"El pedido está esperando ser procesado.\")\n",
    "    elif estado == \"enviado\": # <-- \"enviado\" es otra cadena mágica\n",
    "        print(\"El pedido ya fue despachado.\")\n",
    "    else:\n",
    "        print(\"Estado desconocido.\")\n",
    "\n",
    "procesar_pedido(estado_pedido_1)\n",
    "procesar_pedido(\"enviado\")\n",
    "\n",
    "# Si hay un error de tipeo, Python no se queja, pero la lógica falla:\n",
    "procesar_pedido(\"pendientee\") # Sin error, pero imprime \"Estado desconocido.\""
   ]
  },
  {
   "cell_type": "markdown",
   "id": "fba49834",
   "metadata": {},
   "source": [
    "En el siguiente ejemplo, `EstadoPedido.PENDIENTE` no es una cadena mágica. Es un miembro de una enumeración claramente definida. Si el valor subyacente \"pendiente\" necesita cambiar, solo lo cambias una vez en la definición de `EstadoPedido`, y todo tu código que usa `EstadoPedido.PENDIENTE` seguirá funcionando correctamente:"
   ]
  },
  {
   "cell_type": "code",
   "execution_count": null,
   "id": "5464017d",
   "metadata": {},
   "outputs": [],
   "source": [
    "# EJEMPLO DE CÓDIGO EVITANDO CADENAS MÁGICAS CON ENUM\n",
    "\n",
    "from enum import Enum\n",
    "\n",
    "class EstadoPedido(Enum):\n",
    "    PENDIENTE = \"pendiente\" # El valor subyacente sigue siendo una cadena, pero el código usa el nombre simbólico.\n",
    "    PROCESANDO = \"procesando\"\n",
    "    ENVIADO = \"enviado\"\n",
    "    ENTREGADO = \"entregado\"\n",
    "\n",
    "def procesar_pedido_con_enum(estado):\n",
    "    if estado == EstadoPedido.PENDIENTE:\n",
    "        print(\"El pedido está esperando ser procesado.\")\n",
    "    elif estado == EstadoPedido.ENVIADO:\n",
    "        print(\"El pedido ya fue despachado.\")\n",
    "    else:\n",
    "        print(\"Estado desconocido.\")\n",
    "\n",
    "# Ahora, usas los nombres simbólicos, no las cadenas directas\n",
    "procesar_pedido_con_enum(EstadoPedido.PENDIENTE)\n",
    "procesar_pedido_con_enum(EstadoPedido.ENVIADO)\n",
    "\n",
    "# Si hay un error de tipeo, Python te dará un error claro *antes* de ejecutar (si usas un IDE)\n",
    "# o un AttributeError si intentas acceder a un miembro que no existe.\n",
    "# procesar_pedido_con_enum(EstadoPedido.PENDIENTEE) # Esto causaría un AttributeError"
   ]
  },
  {
   "cell_type": "markdown",
   "id": "a7b5ae60",
   "metadata": {},
   "source": [
    "#### 3.3.2. Clases\n",
    "\n",
    "Las clases son la base de la Programación Orientada a Objetos (POO) en Python. Son plantillas o \"planos\" para crear objetos. Una clase define las propiedades (atributos o variables) y los comportamientos (métodos o funciones) que tendrán los objetos creados a partir de ella. Al definir una clase, estás creando un nuevo tipo de dato que puedes usar en tu programa."
   ]
  },
  {
   "cell_type": "code",
   "execution_count": null,
   "id": "7f9f5cc7",
   "metadata": {},
   "outputs": [],
   "source": [
    "# Ejemplo de Clases\n",
    "\n",
    "print(\"--- Demostración de Clases ---\")\n",
    "\n",
    "# 1. Definición de una clase 'Persona'\n",
    "class Persona:\n",
    "    # Método constructor: se llama cuando se crea un nuevo objeto de esta clase\n",
    "    def __init__(self, nombre, edad):\n",
    "        self.nombre = nombre  # Atributo 'nombre'\n",
    "        self.edad = edad      # Atributo 'edad'\n",
    "        print(f\"Objeto Persona creado: {self.nombre}\")\n",
    "\n",
    "    # Método de la clase: un comportamiento\n",
    "    def saludar(self):\n",
    "        return f\"Hola, mi nombre es {self.nombre} y tengo {self.edad} años.\"\n",
    "\n",
    "    def cumplir_años(self):\n",
    "        self.edad += 1\n",
    "        print(f\"{self.nombre} ha cumplido años y ahora tiene {self.edad}.\")\n",
    "\n",
    "print(\"Clase 'Persona' definida.\")\n",
    "\n",
    "# 2. Creación de objetos (instancias) de la clase 'Persona'\n",
    "# Estos son los \"tipos de datos definidos por el usuario\" en acción\n",
    "persona1 = Persona(\"Ana\", 30)\n",
    "persona2 = Persona(\"Luis\", 25)\n",
    "\n",
    "# 3. Acceso a atributos de los objetos\n",
    "print(f\"\\nNombre de persona1: {persona1.nombre}\")\n",
    "print(f\"Edad de persona2: {persona2.edad}\")\n",
    "\n",
    "# 4. Llamada a métodos de los objetos\n",
    "print(persona1.saludar())\n",
    "print(persona2.saludar())\n",
    "\n",
    "# 5. Modificar atributos de los objetos\n",
    "persona1.cumplir_años()\n",
    "print(f\"Nueva edad de persona1: {persona1.edad}\")\n",
    "\n",
    "# Demostración de importación (simulando tu imagen de from operacion import Operacion)\n",
    "# Aunque aquí no importamos desde un archivo, esta es la forma en que se usaría una clase importada.\n",
    "# from mi_modulo_de_clases import MiClase\n",
    "# objeto_importado = MiClase(\"param1\", \"param2\")\n",
    "\n",
    "print(\"\\n--- Fin de la demostración de Clases ---\")"
   ]
  },
  {
   "cell_type": "markdown",
   "id": "a2a2d262",
   "metadata": {},
   "source": [
    "## 4\\. Operadores y Expresiones\n",
    "\n",
    "Un operador define alguna función que se realizará con los datos. Los datos sobre los que trabajan los operadores se denominan operandos.\n",
    "\n",
    "Son símbolos que realizan operaciones sobre uno o más valores (operandos), formando **expresiones** que Python evalúa para producir un resultado.\n",
    "\n",
    "Python clasifica a los operadores como:"
   ]
  },
  {
   "cell_type": "markdown",
   "id": "1aad2ece",
   "metadata": {},
   "source": [
    "### 4.1. Operadores aritméticos\n",
    "\n",
    "Se usan para operaciones matemáticas básicas: suma (`+`), resta (`-`), multiplicación (`*`), división (`/`), división entera (`//`), módulo (`%`), y potencia (`**`)."
   ]
  },
  {
   "cell_type": "code",
   "execution_count": 28,
   "id": "f25fa180",
   "metadata": {},
   "outputs": [
    {
     "name": "stdout",
     "output_type": "stream",
     "text": [
      "Suma (a + b): 13\n",
      "Resta (a - b): 7\n",
      "Multiplicación (a * b): 30\n",
      "División (a / b): 3.3333333333333335\n",
      "División Entera (a // b): 3\n",
      "Módulo (a % b): 1\n",
      "Potencia (a ** b): 1000\n",
      "\n",
      "------------------------------\n",
      "\n"
     ]
    }
   ],
   "source": [
    "# Ejemplo de operaciones aritméticas básicas\n",
    "a = 10\n",
    "b = 3\n",
    "\n",
    "print(f\"Suma (a + b): {a + b}\")         # Resultado: 13\n",
    "print(f\"Resta (a - b): {a - b}\")         # Resultado: 7\n",
    "print(f\"Multiplicación (a * b): {a * b}\") # Resultado: 30\n",
    "print(f\"División (a / b): {a / b}\")       # Resultado: 3.333... (siempre float)\n",
    "print(f\"División Entera (a // b): {a // b}\") # Resultado: 3 (parte entera)\n",
    "print(f\"Módulo (a % b): {a % b}\")         # Resultado: 1 (resto de la división)\n",
    "print(f\"Potencia (a ** b): {a ** b}\")     # Resultado: 1000 (10 elevado a la 3)\n",
    "print(\"\\n\" + \"-\"*30 + \"\\n\")"
   ]
  },
  {
   "cell_type": "markdown",
   "id": "db66f5ea",
   "metadata": {},
   "source": [
    "El orden de prioridad es el siguiente (de mayor a menor):\n",
    "\n",
    "1º.  **Potenciación** (`**`)\n",
    "\n",
    "2º.  **Multiplicación**, **División**, **División Entera** y **Módulo** (`*`, `/`, `//`, `%`) - Estas operaciones se evalúan de izquierda a derecha.\n",
    "\n",
    "3º.  **Adición** y **Sustracción** (`+`, `-`) - Estas operaciones se evalúan de izquierda a derecha.\n",
    "\n",
    "Para forzar un orden de evaluación diferente al predeterminado, se utilizan los **paréntesis `()`**. Las operaciones dentro de paréntesis siempre se evalúan primero.\n",
    "\n",
    "Para comprenderlo mejor, veamos el siguiente ejemplo:"
   ]
  },
  {
   "cell_type": "code",
   "execution_count": 29,
   "id": "3e2399a7",
   "metadata": {},
   "outputs": [
    {
     "name": "stdout",
     "output_type": "stream",
     "text": [
      "--- Prioridad de Operadores Aritméticos ---\n",
      "La expresión: 20 + 3 * 2 ** 2 - 8 / 4 % 3 + 10\n",
      "El resultado es: 40.0\n",
      "\n",
      "En base a la prioridad antes mencionada, el cálculo se desglosa así:\n",
      "1. Se evalúan los paréntesis (no tenemos ninguno en este caso).\n",
      "2. Se calculan las potencias (2**2 = 4).\n",
      "   Expresión resultante: 20 + 3 * 4 - 8 / 4 % 3 + 10\n",
      "3. Se calculan las operaciones de multiplicación y división (3*4 = 12 y 8/4 = 2), de izquierda a derecha.\n",
      "   Expresión resultante: 20 + 12 - 2 % 3 + 10\n",
      "4. Se calcula el módulo (2 % 3 = 2).\n",
      "   Expresión resultante: 20 + 12 - 2 + 10\n",
      "5. Finalmente, las sumas y restas (20 + 12 = 32, luego 32 - 2 = 30, luego 30 + 10 = 40).\n",
      "   El resultado final es: 40.0\n",
      "--- Fin de la demostración de Prioridad ---\n",
      "\n"
     ]
    }
   ],
   "source": [
    "# Ejemplo de Prioridad de Operadores Aritméticos\n",
    "\n",
    "print(\"--- Prioridad de Operadores Aritméticos ---\")\n",
    "\n",
    "resultado = 20 + 3 * 2 ** 2 - 8 / 4 % 3 + 10\n",
    "print(f\"La expresión: 20 + 3 * 2 ** 2 - 8 / 4 % 3 + 10\")\n",
    "print(f\"El resultado es: {resultado}\") # output: 40.0\n",
    "\n",
    "print(\"\\nEn base a la prioridad antes mencionada, el cálculo se desglosa así:\")\n",
    "print(\"1. Se evalúan los paréntesis (no tenemos ninguno en este caso).\")\n",
    "print(\"2. Se calculan las potencias (2**2 = 4).\")\n",
    "print(\"   Expresión resultante: 20 + 3 * 4 - 8 / 4 % 3 + 10\")\n",
    "print(\"3. Se calculan las operaciones de multiplicación y división (3*4 = 12 y 8/4 = 2), de izquierda a derecha.\")\n",
    "print(\"   Expresión resultante: 20 + 12 - 2 % 3 + 10\")\n",
    "print(\"4. Se calcula el módulo (2 % 3 = 2).\")\n",
    "print(\"   Expresión resultante: 20 + 12 - 2 + 10\")\n",
    "print(\"5. Finalmente, las sumas y restas (20 + 12 = 32, luego 32 - 2 = 30, luego 30 + 10 = 40).\")\n",
    "print(\"   El resultado final es: 40.0\") # Python convierte a float por la división /\n",
    "\n",
    "print(\"--- Fin de la demostración de Prioridad ---\\n\")"
   ]
  },
  {
   "cell_type": "markdown",
   "id": "bf82bff9",
   "metadata": {},
   "source": [
    "### 4.2. Operadores de Comparación (Relacionales)\n",
    "\n",
    "Comparan dos valores y devuelven un booleano (`True` o `False`): igual a (`==`), diferente de (`!=`), mayor que (`>`), menor que (`<`), mayor o igual que (`>=`), menor o igual que (`<=`)."
   ]
  },
  {
   "cell_type": "code",
   "execution_count": 30,
   "id": "dd84fcf3",
   "metadata": {},
   "outputs": [
    {
     "name": "stdout",
     "output_type": "stream",
     "text": [
      "Igual a (x == y): False\n",
      "Diferente de (x != y): True\n",
      "Mayor que (x > y): False\n",
      "Menor que (x < y): True\n",
      "Mayor o igual que (x >= y): False\n",
      "Menor o igual que (x <= y): True\n",
      "\n",
      "------------------------------\n",
      "\n"
     ]
    }
   ],
   "source": [
    "# Comparan dos valores y devuelven True o False\n",
    "x = 5\n",
    "y = 10\n",
    "\n",
    "print(f\"Igual a (x == y): {x == y}\")   # Resultado: False\n",
    "print(f\"Diferente de (x != y): {x != y}\") # Resultado: True\n",
    "print(f\"Mayor que (x > y): {x > y}\")     # Resultado: False\n",
    "print(f\"Menor que (x < y): {x < y}\")     # Resultado: True\n",
    "print(f\"Mayor o igual que (x >= y): {x >= y}\") # Resultado: False\n",
    "print(f\"Menor o igual que (x <= y): {x <= y}\") # Resultado: True\n",
    "print(\"\\n\" + \"-\"*30 + \"\\n\")"
   ]
  },
  {
   "cell_type": "markdown",
   "id": "e9ff54a8",
   "metadata": {},
   "source": [
    "### 4.3. Operadores Lógicos\n",
    "Combinan expresiones booleanas: `and` (ambas verdaderas), `or` (al menos una verdadera), `not` (niega el valor booleano)."
   ]
  },
  {
   "cell_type": "code",
   "execution_count": 31,
   "id": "c7d6788b",
   "metadata": {},
   "outputs": [
    {
     "name": "stdout",
     "output_type": "stream",
     "text": [
      "AND (es_dia and hace_frio): True\n",
      "OR (es_dia or es_noche): True\n",
      "NOT (not es_noche): True\n",
      "\n",
      "------------------------------\n",
      "\n"
     ]
    }
   ],
   "source": [
    "# Combinan expresiones booleanas\n",
    "es_dia = True\n",
    "es_noche = False\n",
    "hace_frio = True\n",
    "\n",
    "print(f\"AND (es_dia and hace_frio): {es_dia and hace_frio}\") # Resultado: True (ambas verdaderas)\n",
    "print(f\"OR (es_dia or es_noche): {es_dia or es_noche}\")   # Resultado: True (al menos una verdadera)\n",
    "print(f\"NOT (not es_noche): {not es_noche}\")         # Resultado: True (niega el valor)\n",
    "print(\"\\n\" + \"-\"*30 + \"\\n\")"
   ]
  },
  {
   "cell_type": "markdown",
   "id": "e8fe3c43",
   "metadata": {},
   "source": [
    "### 4.4. Operadores de Asignación\n",
    "\n",
    "Asignan un valor a una variable, a menudo combinando una operación: asignación simple (`=`), suma y asignación (`+=`), resta y asignación (`-=`), etc."
   ]
  },
  {
   "cell_type": "code",
   "execution_count": 32,
   "id": "530a5f9e",
   "metadata": {},
   "outputs": [
    {
     "name": "stdout",
     "output_type": "stream",
     "text": [
      "Original: numero = 20\n",
      "Suma y asignación (numero += 5): 25\n",
      "Resta y asignación (numero -= 10): 15\n",
      "Multiplicación y asignación (numero *= 2): 30\n",
      "División y asignación (numero /= 3): 10.0\n",
      "División entera y asignación (numero //= 3): 3.0\n",
      "Módulo y asignación (numero %= 2): 1.0\n",
      "Potencia y asignación (numero **= 4): 1.0\n",
      "\n",
      "------------------------------\n",
      "\n"
     ]
    }
   ],
   "source": [
    "# Asignan un valor a una variable, a menudo combinando una operación\n",
    "numero = 20\n",
    "print(f\"Original: numero = {numero}\")\n",
    "\n",
    "numero += 5 # Es igual a: numero = numero + 5\n",
    "print(f\"Suma y asignación (numero += 5): {numero}\") # Resultado: 25\n",
    "\n",
    "numero -= 10 # Es igual a: numero = numero - 10\n",
    "print(f\"Resta y asignación (numero -= 10): {numero}\") # Resultado: 15\n",
    "\n",
    "numero *= 2 # Es igual a: numero = numero * 2\n",
    "print(f\"Multiplicación y asignación (numero *= 2): {numero}\") # Resultado: 30\n",
    "\n",
    "numero /= 3 # Es igual a: numero = numero / 3\n",
    "print(f\"División y asignación (numero /= 3): {numero}\") # Resultado: 10.0\n",
    "\n",
    "numero //= 3 # Es igual a: numero = numero // 3\n",
    "print(f\"División entera y asignación (numero //= 3): {numero}\") # Resultado: 3.0\n",
    "\n",
    "numero %= 2 # Es igual a: numero = numero % 2\n",
    "print(f\"Módulo y asignación (numero %= 2): {numero}\") # Resultado: 1.0\n",
    "\n",
    "numero **= 4 # Es igual a: numero = numero ** 4\n",
    "print(f\"Potencia y asignación (numero **= 4): {numero}\") # Resultado: 1.0\n",
    "print(\"\\n\" + \"-\"*30 + \"\\n\")"
   ]
  },
  {
   "cell_type": "markdown",
   "id": "c413ee2a",
   "metadata": {},
   "source": [
    "### 4.3. Operador Condicional (Ternario)\n",
    "\n",
    "Es una forma concisa de escribir una expresión condicional en una sola línea, evaluando una condición y devolviendo un valor u otro según el resultado.\n",
    "`valor_si_true if condicion else valor_si_false`"
   ]
  },
  {
   "cell_type": "code",
   "execution_count": 33,
   "id": "ed3eb19d",
   "metadata": {},
   "outputs": [
    {
     "name": "stdout",
     "output_type": "stream",
     "text": [
      "Si edad es 18: 'Mayor de edad'\n",
      "Si edad es 15: 'Menor de edad'\n",
      "\n",
      "------------------------------\n",
      "\n"
     ]
    }
   ],
   "source": [
    "# Forma concisa de una expresión condicional\n",
    "edad = 18\n",
    "estado_edad = \"Mayor de edad\" if edad >= 18 else \"Menor de edad\"\n",
    "print(f\"Si edad es {edad}: '{estado_edad}'\") # Resultado: Mayor de edad\n",
    "\n",
    "edad = 15\n",
    "estado_edad = \"Mayor de edad\" if edad >= 18 else \"Menor de edad\"\n",
    "print(f\"Si edad es {edad}: '{estado_edad}'\") # Resultado: Menor de edad\n",
    "print(\"\\n\" + \"-\"*30 + \"\\n\")"
   ]
  },
  {
   "cell_type": "markdown",
   "id": "7c5af54f",
   "metadata": {},
   "source": [
    "-----\n",
    "\n",
    "### **💡RECUERDA: Notas Importantes al Guardar y Ejecutar Archivos Python:**\n",
    "\n",
    "* **Nombres de Archivos:**\n",
    "    * **No uses espacios** en los nombres de tus archivos Python (ej., `mi_programa.py` es correcto, `mi programa.py` no lo es). Usa guiones bajos (`_`) o guiones (`-`) para separar palabras.\n",
    "    * **Evita caracteres especiales** como `!`, `@`, `#`, `$`, `%`, etc. en los nombres de archivo.\n",
    "    * **No uses nombres que coincidan** con módulos o palabras clave de Python (ej., `list.py`, `str.py`, `math.py`). Esto puede causar conflictos inesperados.\n",
    "* **Extensiones:** Asegúrate siempre de que tu archivo termine en `.py`. Esto le indica al sistema operativo y a Python que es un script ejecutable.\n",
    "* **Rutas de Archivo:** Si ejecutas desde la terminal de tu sistema operativo, es crucial que la terminal esté en el mismo directorio donde guardaste el archivo `.py` o que especifiques la **ruta completa** al archivo. Puedes usar el comando `cd` (change directory) para navegar.\n",
    "* **Convenciones de Nombres:**\n",
    "    * Por convención, los nombres de archivos Python suelen escribirse en **minúsculas**.\n",
    "    * Para las **variables que actúan como constantes** (cuyo valor no debería cambiar), la convención es escribirlas en **MAYÚSCULAS_SOSTENIDAS** (ej., `PI = 3.14159`, `MAX_INT = 2147483647`). Esto es una señal para los desarrolladores de que ese valor es fijo, aunque Python no lo impida técnicamente.\n"
   ]
  },
  {
   "cell_type": "markdown",
   "id": "283b5e1b",
   "metadata": {},
   "source": [
    "-----\n",
    "\n",
    "## 6\\. Ejercicios Propuestos\n",
    "\n",
    "Estos ejercicios te ayudarán a familiarizarte con las operaciones básicas y la entrada/salida de datos, preparando el terreno para las estructuras de control.\n",
    "\n",
    "1.  **Área de un Círculo:** Escribe un programa que pida al usuario el radio de un círculo y calcule su área (Área = π \\* radio²). Puedes usar `3.14159` como valor de π.\n",
    "\n",
    "2.  **Conversor de Temperatura:** Escribe un programa que convierta una temperatura dada en grados Celsius a grados Fahrenheit (F = C \\* 1.8 + 32).\n",
    "\n",
    "3.  **Hipotenusa de un Triángulo:** Escribe un programa que pida al usuario los dos catetos de un triángulo rectángulo y calcule la hipotenusa (Hipotenusa² = CatetoA² + CatetoB²). Puedes usar `** 0.5` para la raíz cuadrada.\n",
    "\n",
    "4.  **Saludo Personalizado con Edad:** Escribe un programa que pida al usuario su año de nacimiento, calcule su edad y genere un mensaje de saludo personalizado que incluya su nombre y edad."
   ]
  },
  {
   "cell_type": "code",
   "execution_count": null,
   "id": "15e140fc",
   "metadata": {},
   "outputs": [],
   "source": [
    "# Espacio de código para ejercicios"
   ]
  }
 ],
 "metadata": {
  "kernelspec": {
   "display_name": "Python 3",
   "language": "python",
   "name": "python3"
  },
  "language_info": {
   "codemirror_mode": {
    "name": "ipython",
    "version": 3
   },
   "file_extension": ".py",
   "mimetype": "text/x-python",
   "name": "python",
   "nbconvert_exporter": "python",
   "pygments_lexer": "ipython3",
   "version": "3.13.5"
  }
 },
 "nbformat": 4,
 "nbformat_minor": 5
}
