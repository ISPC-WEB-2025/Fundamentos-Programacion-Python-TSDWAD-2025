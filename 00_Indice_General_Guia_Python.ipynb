{
 "cells": [
  {
   "cell_type": "markdown",
   "id": "db6a31d7",
   "metadata": {},
   "source": [
    "# 📚 Índice General: Guía de Fundamentos de Programación con Python 🐍\n",
    "\n",
    "¡Hola! Bienvenido/a a la guía interactiva de programación con Python. Aquí encontrarás todos los temas organizados por unidades.\n",
    "\n",
    "Para navegar, simplemente haz clic en los enlaces de cada capítulo. ¡Recuerda que si quieres guardar tus avances o practicar el código, debes ir a **Archivo > Guardar una copia en Drive** o **Archivo > Guardar una copia en GitHub** para tener tu propia versión editable!\n",
    "\n",
    "---\n",
    "\n",
    "## 🎯 Unidades de la Guía:\n",
    "\n",
    "### [Unidad 1 - Introducción a Python]\n",
    "\n",
    "* [**1.1 Fundamentos y Entorno de Trabajo**](https://colab.research.google.com/github/ISPC-WEB-2025/Fundamentos-Programacion-Python-TSDWAD-2025/blob/main/Unidad%201%20-%20Introduccion%20a%20Python/01_Fundamentos_y_Entorno_Trabajo.ipynb)\n",
    "* [**1.2 Sintaxis Básica, Variables, Tipos de Datos y Operadores:**](https://colab.research.google.com/github/ISPC-WEB-2025/Fundamentos-Programacion-Python-TSDWAD-2025/blob/main/Unidad%201%20-%20Introduccion%20a%20Python/02_Sintaxis_Datos_Variables.ipynb)\n",
    "* **Ejercicios de la Unidad 1:** *(Próximamente)*\n",
    "\n",
    "### Unidad 2 - Estructuras de Control y Datos\n",
    "\n",
    "* **2.1 Estructuras de Control Secuenciales y Condicionales:** *(Próximamente)*\n",
    "* **2.2 Estructuras de Control Iterativas (Bucles):** *(Próximamente)*\n",
    "* **2.3 Tipos de Datos Simples:** *(Próximamente)*\n",
    "* **2.4 Listas, Tuplas y Diccionarios:** *(Próximamente)*\n",
    "* **Ejercicios de la Unidad 2:** *(Próximamente)*\n",
    "\n",
    "### Unidad 3 - Funciones y Modularidad\n",
    "\n",
    "* **3.1 Funciones: Definición y Uso:** *(Próximamente)*\n",
    "* **Ejercicios de la Unidad 3:** *(Próximamente)*\n",
    "\n",
    "### Unidad 4 - Introducción a POO\n",
    "\n",
    "* **4.1 Conceptos de POO: Clases y Objetos:** *(Próximamente)*\n",
    "* **4.2 Fundamentos de POO: Abstracción y Encapsulamiento:** *(Próximamente)*\n",
    "* **Ejercicios de la Unidad 4:** *(Próximamente)*\n",
    "\n",
    "### Unidad 5 - POO Avanzada y UML\n",
    "\n",
    "* **5.1 Herencia y Polimorfismo:** *(Próximamente)*\n",
    "* **5.2 Diseño UML: Introducción:** *(Próximamente)*\n",
    "* **Ejercicios de la Unidad 5:** *(Próximamente)*\n",
    "\n",
    "### Unidad 6 - Control, Depuración y Testing\n",
    "\n",
    "* **6.1 Errores y Depuración:** *(Próximamente)*\n",
    "* **Ejercicios de la Unidad 6:** *(Próximamente)*\n",
    "\n",
    "---\n",
    "\n",
    "¡Disfruta aprendiendo y practicando Python!"
   ]
  }
 ],
 "metadata": {
  "language_info": {
   "name": "python"
  }
 },
 "nbformat": 4,
 "nbformat_minor": 5
}
